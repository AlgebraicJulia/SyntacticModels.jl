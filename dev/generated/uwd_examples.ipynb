{
 "cells": [
  {
   "cell_type": "markdown",
   "source": [
    "# Undirected Wiring Diagrams"
   ],
   "metadata": {}
  },
  {
   "cell_type": "markdown",
   "source": [
    "To specify complex systems, you need to specify primitive models and a pattern of composition.\n",
    "This example shows you how to use Undirected Wiring Diagrams (UWDs) as a language for expressing patterns of composition.\n",
    "These diagrams are undirected, because they do not have inputs and outputs. UWDs are for systems that compose by sharing variables.\n",
    "They are not for systems that compose like functions, where output of a system is passed as input to another system.\n",
    "For systems that compose like functions, use Directed Wiring Diagrams."
   ],
   "metadata": {}
  },
  {
   "outputs": [
    {
     "output_type": "execute_result",
     "data": {
      "text/plain": "draw (generic function with 1 method)"
     },
     "metadata": {},
     "execution_count": 1
    }
   ],
   "cell_type": "code",
   "source": [
    "using ..SyntacticModels\n",
    "using ..SyntacticModels.SyntacticModelsBase\n",
    "using ..SyntacticModels.AMR\n",
    "using ..SyntacticModels.ASKEMUWDs\n",
    "\n",
    "using Test\n",
    "using JSON3\n",
    "using Catlab.RelationalPrograms\n",
    "using Catlab.WiringDiagrams\n",
    "using Catlab.Graphics\n",
    "\n",
    "draw(uwd) = to_graphviz(uwd, box_labels=:name, junction_labels=:variable)"
   ],
   "metadata": {},
   "execution_count": 1
  },
  {
   "cell_type": "markdown",
   "source": [
    "This example follows what in current catlab would be given as:\n",
    "\n",
    "```julia\n",
    "@relation (x:X, z:Z) where y:Y begin\n",
    "  R(x,y)\n",
    "  S(y,z)\n",
    "  T(z,y,u)\n",
    "end\n",
    "```\n",
    "\n",
    "Eventually, we will update the `@relation` macro to use this ADT based representation.\n",
    "This will allow users to create syntactic UWDExprs from with an easy to write syntax embedded in Julia."
   ],
   "metadata": {}
  },
  {
   "outputs": [
    {
     "output_type": "execute_result",
     "data": {
      "text/plain": "SyntacticModels.ASKEMUWDs.UWDExpr(SyntacticModels.ASKEMUWDs.Var[SyntacticModels.ASKEMUWDs.Typed(:x, :X), SyntacticModels.ASKEMUWDs.Typed(:z, :Z)], SyntacticModels.ASKEMUWDs.Statement[SyntacticModels.ASKEMUWDs.Statement(:R, SyntacticModels.ASKEMUWDs.Var[SyntacticModels.ASKEMUWDs.Typed(:x, :X), SyntacticModels.ASKEMUWDs.Typed(:y, :Y)]), SyntacticModels.ASKEMUWDs.Statement(:S, SyntacticModels.ASKEMUWDs.Var[SyntacticModels.ASKEMUWDs.Typed(:y, :Y), SyntacticModels.ASKEMUWDs.Typed(:z, :Z)]), SyntacticModels.ASKEMUWDs.Statement(:T, SyntacticModels.ASKEMUWDs.Var[SyntacticModels.ASKEMUWDs.Typed(:z, :Z), SyntacticModels.ASKEMUWDs.Typed(:y, :Y), SyntacticModels.ASKEMUWDs.Untyped(:u)])])"
     },
     "metadata": {},
     "execution_count": 2
    }
   ],
   "cell_type": "code",
   "source": [
    "v1 = Typed(:x, :X)\n",
    "v2 = Typed(:y, :Y)\n",
    "v3 = Typed(:z, :Z)\n",
    "v4 = Untyped(:u)\n",
    "c = [v1, v3]\n",
    "s = [Statement(:R, [v1,v2]),\n",
    "  Statement(:S, [v2,v3]),\n",
    "  Statement(:T, [v3,v2, v4])]\n",
    "u = UWDExpr(c, s)"
   ],
   "metadata": {},
   "execution_count": 2
  },
  {
   "cell_type": "markdown",
   "source": [
    "We can test that if we write the `UWDExpr` into a JSON string, then we get the same information when we read it.\n",
    "The `==` operator for MLStyle types is not correctly working for these types, I think because some type information is being lost."
   ],
   "metadata": {}
  },
  {
   "outputs": [
    {
     "output_type": "execute_result",
     "data": {
      "text/plain": "\u001b[32m\u001b[1mTest Passed\u001b[22m\u001b[39m"
     },
     "metadata": {},
     "execution_count": 3
    }
   ],
   "cell_type": "code",
   "source": [
    "s = JSON3.write(u)\n",
    "ujson = JSON3.read(s, UWDTerm)\n",
    "@test s == JSON3.write(ujson)"
   ],
   "metadata": {},
   "execution_count": 3
  },
  {
   "cell_type": "markdown",
   "source": [
    "The element type of the array changes when you go through JSON, even though type of the elements are the same."
   ],
   "metadata": {}
  },
  {
   "outputs": [
    {
     "output_type": "execute_result",
     "data": {
      "text/plain": "(Vector{SyntacticModels.ASKEMUWDs.Statement}, Vector{SyntacticModels.ASKEMUWDs.Statement})"
     },
     "metadata": {},
     "execution_count": 4
    }
   ],
   "cell_type": "code",
   "source": [
    "typeof(ujson.statements), typeof(u.statements)"
   ],
   "metadata": {},
   "execution_count": 4
  },
  {
   "cell_type": "markdown",
   "source": [
    "One can construct a Catlab Relation diagram from this expression."
   ],
   "metadata": {}
  },
  {
   "outputs": [
    {
     "output_type": "execute_result",
     "data": {
      "text/plain": "Catlab.Programs.RelationalPrograms.TypedUnnamedRelationDiagram{Symbol, Symbol, Symbol} {Box:3, Port:7, OuterPort:2, Junction:4, Type:0, Name:0, VarName:0}\n┌─────┬──────┐\n│\u001b[1m Box │\u001b[1m name │\n├─────┼──────┤\n│\u001b[1m   1 │    R │\n│\u001b[1m   2 │    S │\n│\u001b[1m   3 │    T │\n└─────┴──────┘\n┌──────┬─────┬──────────┬───────────┐\n│\u001b[1m Port │\u001b[1m box │\u001b[1m junction │\u001b[1m port_type │\n├──────┼─────┼──────────┼───────────┤\n│\u001b[1m    1 │   1 │        1 │         X │\n│\u001b[1m    2 │   1 │        3 │         Y │\n│\u001b[1m    3 │   2 │        3 │         Y │\n│\u001b[1m    4 │   2 │        2 │         Z │\n│\u001b[1m    5 │   3 │        2 │         Z │\n│\u001b[1m    6 │   3 │        3 │         Y │\n│\u001b[1m    7 │   3 │        4 │   untyped │\n└──────┴─────┴──────────┴───────────┘\n┌───────────┬────────────────┬─────────────────┐\n│\u001b[1m OuterPort │\u001b[1m outer_junction │\u001b[1m outer_port_type │\n├───────────┼────────────────┼─────────────────┤\n│\u001b[1m         1 │              1 │               x │\n│\u001b[1m         2 │              2 │               z │\n└───────────┴────────────────┴─────────────────┘\n┌──────────┬───────────────┬──────────┐\n│\u001b[1m Junction │\u001b[1m junction_type │\u001b[1m variable │\n├──────────┼───────────────┼──────────┤\n│\u001b[1m        1 │             X │        x │\n│\u001b[1m        2 │             Z │        z │\n│\u001b[1m        3 │             Y │        y │\n│\u001b[1m        4 │       untyped │        u │\n└──────────┴───────────────┴──────────┘\n",
      "text/html": [
       "<div class=\"c-set\">\n",
       "<span class=\"c-set-summary\">Catlab.Programs.RelationalPrograms.TypedUnnamedRelationDiagram{Symbol, Symbol, Symbol} {Box:3, Port:7, OuterPort:2, Junction:4, Type:0, Name:0, VarName:0}</span>\n",
       "<table>\n",
       "  <thead>\n",
       "    <tr class = \"header headerLastRow\">\n",
       "      <th class = \"rowLabel\" style = \"font-weight: bold; text-align: right;\">Box</th>\n",
       "      <th style = \"text-align: right;\">name</th>\n",
       "    </tr>\n",
       "  </thead>\n",
       "  <tbody>\n",
       "    <tr>\n",
       "      <td class = \"rowLabel\" style = \"font-weight: bold; text-align: right;\">1</td>\n",
       "      <td style = \"text-align: right;\">R</td>\n",
       "    </tr>\n",
       "    <tr>\n",
       "      <td class = \"rowLabel\" style = \"font-weight: bold; text-align: right;\">2</td>\n",
       "      <td style = \"text-align: right;\">S</td>\n",
       "    </tr>\n",
       "    <tr>\n",
       "      <td class = \"rowLabel\" style = \"font-weight: bold; text-align: right;\">3</td>\n",
       "      <td style = \"text-align: right;\">T</td>\n",
       "    </tr>\n",
       "  </tbody>\n",
       "</table>\n",
       "<table>\n",
       "  <thead>\n",
       "    <tr class = \"header headerLastRow\">\n",
       "      <th class = \"rowLabel\" style = \"font-weight: bold; text-align: right;\">Port</th>\n",
       "      <th style = \"text-align: right;\">box</th>\n",
       "      <th style = \"text-align: right;\">junction</th>\n",
       "      <th style = \"text-align: right;\">port_type</th>\n",
       "    </tr>\n",
       "  </thead>\n",
       "  <tbody>\n",
       "    <tr>\n",
       "      <td class = \"rowLabel\" style = \"font-weight: bold; text-align: right;\">1</td>\n",
       "      <td style = \"text-align: right;\">1</td>\n",
       "      <td style = \"text-align: right;\">1</td>\n",
       "      <td style = \"text-align: right;\">X</td>\n",
       "    </tr>\n",
       "    <tr>\n",
       "      <td class = \"rowLabel\" style = \"font-weight: bold; text-align: right;\">2</td>\n",
       "      <td style = \"text-align: right;\">1</td>\n",
       "      <td style = \"text-align: right;\">3</td>\n",
       "      <td style = \"text-align: right;\">Y</td>\n",
       "    </tr>\n",
       "    <tr>\n",
       "      <td class = \"rowLabel\" style = \"font-weight: bold; text-align: right;\">3</td>\n",
       "      <td style = \"text-align: right;\">2</td>\n",
       "      <td style = \"text-align: right;\">3</td>\n",
       "      <td style = \"text-align: right;\">Y</td>\n",
       "    </tr>\n",
       "    <tr>\n",
       "      <td class = \"rowLabel\" style = \"font-weight: bold; text-align: right;\">4</td>\n",
       "      <td style = \"text-align: right;\">2</td>\n",
       "      <td style = \"text-align: right;\">2</td>\n",
       "      <td style = \"text-align: right;\">Z</td>\n",
       "    </tr>\n",
       "    <tr>\n",
       "      <td class = \"rowLabel\" style = \"font-weight: bold; text-align: right;\">5</td>\n",
       "      <td style = \"text-align: right;\">3</td>\n",
       "      <td style = \"text-align: right;\">2</td>\n",
       "      <td style = \"text-align: right;\">Z</td>\n",
       "    </tr>\n",
       "    <tr>\n",
       "      <td class = \"rowLabel\" style = \"font-weight: bold; text-align: right;\">6</td>\n",
       "      <td style = \"text-align: right;\">3</td>\n",
       "      <td style = \"text-align: right;\">3</td>\n",
       "      <td style = \"text-align: right;\">Y</td>\n",
       "    </tr>\n",
       "    <tr>\n",
       "      <td class = \"rowLabel\" style = \"font-weight: bold; text-align: right;\">7</td>\n",
       "      <td style = \"text-align: right;\">3</td>\n",
       "      <td style = \"text-align: right;\">4</td>\n",
       "      <td style = \"text-align: right;\">untyped</td>\n",
       "    </tr>\n",
       "  </tbody>\n",
       "</table>\n",
       "<table>\n",
       "  <thead>\n",
       "    <tr class = \"header headerLastRow\">\n",
       "      <th class = \"rowLabel\" style = \"font-weight: bold; text-align: right;\">OuterPort</th>\n",
       "      <th style = \"text-align: right;\">outer_junction</th>\n",
       "      <th style = \"text-align: right;\">outer_port_type</th>\n",
       "    </tr>\n",
       "  </thead>\n",
       "  <tbody>\n",
       "    <tr>\n",
       "      <td class = \"rowLabel\" style = \"font-weight: bold; text-align: right;\">1</td>\n",
       "      <td style = \"text-align: right;\">1</td>\n",
       "      <td style = \"text-align: right;\">x</td>\n",
       "    </tr>\n",
       "    <tr>\n",
       "      <td class = \"rowLabel\" style = \"font-weight: bold; text-align: right;\">2</td>\n",
       "      <td style = \"text-align: right;\">2</td>\n",
       "      <td style = \"text-align: right;\">z</td>\n",
       "    </tr>\n",
       "  </tbody>\n",
       "</table>\n",
       "<table>\n",
       "  <thead>\n",
       "    <tr class = \"header headerLastRow\">\n",
       "      <th class = \"rowLabel\" style = \"font-weight: bold; text-align: right;\">Junction</th>\n",
       "      <th style = \"text-align: right;\">junction_type</th>\n",
       "      <th style = \"text-align: right;\">variable</th>\n",
       "    </tr>\n",
       "  </thead>\n",
       "  <tbody>\n",
       "    <tr>\n",
       "      <td class = \"rowLabel\" style = \"font-weight: bold; text-align: right;\">1</td>\n",
       "      <td style = \"text-align: right;\">X</td>\n",
       "      <td style = \"text-align: right;\">x</td>\n",
       "    </tr>\n",
       "    <tr>\n",
       "      <td class = \"rowLabel\" style = \"font-weight: bold; text-align: right;\">2</td>\n",
       "      <td style = \"text-align: right;\">Z</td>\n",
       "      <td style = \"text-align: right;\">z</td>\n",
       "    </tr>\n",
       "    <tr>\n",
       "      <td class = \"rowLabel\" style = \"font-weight: bold; text-align: right;\">3</td>\n",
       "      <td style = \"text-align: right;\">Y</td>\n",
       "      <td style = \"text-align: right;\">y</td>\n",
       "    </tr>\n",
       "    <tr>\n",
       "      <td class = \"rowLabel\" style = \"font-weight: bold; text-align: right;\">4</td>\n",
       "      <td style = \"text-align: right;\">untyped</td>\n",
       "      <td style = \"text-align: right;\">u</td>\n",
       "    </tr>\n",
       "  </tbody>\n",
       "</table>\n",
       "</div>\n"
      ]
     },
     "metadata": {},
     "execution_count": 5
    }
   ],
   "cell_type": "code",
   "source": [
    "uwd = ASKEMUWDs.construct(RelationDiagram, u)"
   ],
   "metadata": {},
   "execution_count": 5
  },
  {
   "cell_type": "markdown",
   "source": [
    "And then use Graphviz to draw the uwd."
   ],
   "metadata": {}
  },
  {
   "outputs": [
    {
     "output_type": "display_data",
     "data": {
      "text/plain": "Catlab.Programs.RelationalPrograms.TypedUnnamedRelationDiagram{Symbol, Symbol, Symbol} {Box:3, Port:7, OuterPort:2, Junction:4, Type:0, Name:0, VarName:0}\n┌─────┬──────┐\n│\u001b[1m Box │\u001b[1m name │\n├─────┼──────┤\n│\u001b[1m   1 │    R │\n│\u001b[1m   2 │    S │\n│\u001b[1m   3 │    T │\n└─────┴──────┘\n┌──────┬─────┬──────────┬───────────┐\n│\u001b[1m Port │\u001b[1m box │\u001b[1m junction │\u001b[1m port_type │\n├──────┼─────┼──────────┼───────────┤\n│\u001b[1m    1 │   1 │        1 │         X │\n│\u001b[1m    2 │   1 │        3 │         Y │\n│\u001b[1m    3 │   2 │        3 │         Y │\n│\u001b[1m    4 │   2 │        2 │         Z │\n│\u001b[1m    5 │   3 │        2 │         Z │\n│\u001b[1m    6 │   3 │        3 │         Y │\n│\u001b[1m    7 │   3 │        4 │   untyped │\n└──────┴─────┴──────────┴───────────┘\n┌───────────┬────────────────┬─────────────────┐\n│\u001b[1m OuterPort │\u001b[1m outer_junction │\u001b[1m outer_port_type │\n├───────────┼────────────────┼─────────────────┤\n│\u001b[1m         1 │              1 │               x │\n│\u001b[1m         2 │              2 │               z │\n└───────────┴────────────────┴─────────────────┘\n┌──────────┬───────────────┬──────────┐\n│\u001b[1m Junction │\u001b[1m junction_type │\u001b[1m variable │\n├──────────┼───────────────┼──────────┤\n│\u001b[1m        1 │             X │        x │\n│\u001b[1m        2 │             Z │        z │\n│\u001b[1m        3 │             Y │        y │\n│\u001b[1m        4 │       untyped │        u │\n└──────────┴───────────────┴──────────┘\n",
      "text/html": [
       "<div class=\"c-set\">\n",
       "<span class=\"c-set-summary\">Catlab.Programs.RelationalPrograms.TypedUnnamedRelationDiagram{Symbol, Symbol, Symbol} {Box:3, Port:7, OuterPort:2, Junction:4, Type:0, Name:0, VarName:0}</span>\n",
       "<table>\n",
       "  <thead>\n",
       "    <tr class = \"header headerLastRow\">\n",
       "      <th class = \"rowLabel\" style = \"font-weight: bold; text-align: right;\">Box</th>\n",
       "      <th style = \"text-align: right;\">name</th>\n",
       "    </tr>\n",
       "  </thead>\n",
       "  <tbody>\n",
       "    <tr>\n",
       "      <td class = \"rowLabel\" style = \"font-weight: bold; text-align: right;\">1</td>\n",
       "      <td style = \"text-align: right;\">R</td>\n",
       "    </tr>\n",
       "    <tr>\n",
       "      <td class = \"rowLabel\" style = \"font-weight: bold; text-align: right;\">2</td>\n",
       "      <td style = \"text-align: right;\">S</td>\n",
       "    </tr>\n",
       "    <tr>\n",
       "      <td class = \"rowLabel\" style = \"font-weight: bold; text-align: right;\">3</td>\n",
       "      <td style = \"text-align: right;\">T</td>\n",
       "    </tr>\n",
       "  </tbody>\n",
       "</table>\n",
       "<table>\n",
       "  <thead>\n",
       "    <tr class = \"header headerLastRow\">\n",
       "      <th class = \"rowLabel\" style = \"font-weight: bold; text-align: right;\">Port</th>\n",
       "      <th style = \"text-align: right;\">box</th>\n",
       "      <th style = \"text-align: right;\">junction</th>\n",
       "      <th style = \"text-align: right;\">port_type</th>\n",
       "    </tr>\n",
       "  </thead>\n",
       "  <tbody>\n",
       "    <tr>\n",
       "      <td class = \"rowLabel\" style = \"font-weight: bold; text-align: right;\">1</td>\n",
       "      <td style = \"text-align: right;\">1</td>\n",
       "      <td style = \"text-align: right;\">1</td>\n",
       "      <td style = \"text-align: right;\">X</td>\n",
       "    </tr>\n",
       "    <tr>\n",
       "      <td class = \"rowLabel\" style = \"font-weight: bold; text-align: right;\">2</td>\n",
       "      <td style = \"text-align: right;\">1</td>\n",
       "      <td style = \"text-align: right;\">3</td>\n",
       "      <td style = \"text-align: right;\">Y</td>\n",
       "    </tr>\n",
       "    <tr>\n",
       "      <td class = \"rowLabel\" style = \"font-weight: bold; text-align: right;\">3</td>\n",
       "      <td style = \"text-align: right;\">2</td>\n",
       "      <td style = \"text-align: right;\">3</td>\n",
       "      <td style = \"text-align: right;\">Y</td>\n",
       "    </tr>\n",
       "    <tr>\n",
       "      <td class = \"rowLabel\" style = \"font-weight: bold; text-align: right;\">4</td>\n",
       "      <td style = \"text-align: right;\">2</td>\n",
       "      <td style = \"text-align: right;\">2</td>\n",
       "      <td style = \"text-align: right;\">Z</td>\n",
       "    </tr>\n",
       "    <tr>\n",
       "      <td class = \"rowLabel\" style = \"font-weight: bold; text-align: right;\">5</td>\n",
       "      <td style = \"text-align: right;\">3</td>\n",
       "      <td style = \"text-align: right;\">2</td>\n",
       "      <td style = \"text-align: right;\">Z</td>\n",
       "    </tr>\n",
       "    <tr>\n",
       "      <td class = \"rowLabel\" style = \"font-weight: bold; text-align: right;\">6</td>\n",
       "      <td style = \"text-align: right;\">3</td>\n",
       "      <td style = \"text-align: right;\">3</td>\n",
       "      <td style = \"text-align: right;\">Y</td>\n",
       "    </tr>\n",
       "    <tr>\n",
       "      <td class = \"rowLabel\" style = \"font-weight: bold; text-align: right;\">7</td>\n",
       "      <td style = \"text-align: right;\">3</td>\n",
       "      <td style = \"text-align: right;\">4</td>\n",
       "      <td style = \"text-align: right;\">untyped</td>\n",
       "    </tr>\n",
       "  </tbody>\n",
       "</table>\n",
       "<table>\n",
       "  <thead>\n",
       "    <tr class = \"header headerLastRow\">\n",
       "      <th class = \"rowLabel\" style = \"font-weight: bold; text-align: right;\">OuterPort</th>\n",
       "      <th style = \"text-align: right;\">outer_junction</th>\n",
       "      <th style = \"text-align: right;\">outer_port_type</th>\n",
       "    </tr>\n",
       "  </thead>\n",
       "  <tbody>\n",
       "    <tr>\n",
       "      <td class = \"rowLabel\" style = \"font-weight: bold; text-align: right;\">1</td>\n",
       "      <td style = \"text-align: right;\">1</td>\n",
       "      <td style = \"text-align: right;\">x</td>\n",
       "    </tr>\n",
       "    <tr>\n",
       "      <td class = \"rowLabel\" style = \"font-weight: bold; text-align: right;\">2</td>\n",
       "      <td style = \"text-align: right;\">2</td>\n",
       "      <td style = \"text-align: right;\">z</td>\n",
       "    </tr>\n",
       "  </tbody>\n",
       "</table>\n",
       "<table>\n",
       "  <thead>\n",
       "    <tr class = \"header headerLastRow\">\n",
       "      <th class = \"rowLabel\" style = \"font-weight: bold; text-align: right;\">Junction</th>\n",
       "      <th style = \"text-align: right;\">junction_type</th>\n",
       "      <th style = \"text-align: right;\">variable</th>\n",
       "    </tr>\n",
       "  </thead>\n",
       "  <tbody>\n",
       "    <tr>\n",
       "      <td class = \"rowLabel\" style = \"font-weight: bold; text-align: right;\">1</td>\n",
       "      <td style = \"text-align: right;\">X</td>\n",
       "      <td style = \"text-align: right;\">x</td>\n",
       "    </tr>\n",
       "    <tr>\n",
       "      <td class = \"rowLabel\" style = \"font-weight: bold; text-align: right;\">2</td>\n",
       "      <td style = \"text-align: right;\">Z</td>\n",
       "      <td style = \"text-align: right;\">z</td>\n",
       "    </tr>\n",
       "    <tr>\n",
       "      <td class = \"rowLabel\" style = \"font-weight: bold; text-align: right;\">3</td>\n",
       "      <td style = \"text-align: right;\">Y</td>\n",
       "      <td style = \"text-align: right;\">y</td>\n",
       "    </tr>\n",
       "    <tr>\n",
       "      <td class = \"rowLabel\" style = \"font-weight: bold; text-align: right;\">4</td>\n",
       "      <td style = \"text-align: right;\">untyped</td>\n",
       "      <td style = \"text-align: right;\">u</td>\n",
       "    </tr>\n",
       "  </tbody>\n",
       "</table>\n",
       "</div>\n"
      ]
     },
     "metadata": {}
    }
   ],
   "cell_type": "code",
   "source": [
    "draw(uwd)\n",
    "\n",
    "display(uwd)"
   ],
   "metadata": {},
   "execution_count": 6
  },
  {
   "cell_type": "markdown",
   "source": [
    "## Model Headers"
   ],
   "metadata": {}
  },
  {
   "cell_type": "markdown",
   "source": [
    "As usual, we can add an AMR header to a UWD Model:"
   ],
   "metadata": {}
  },
  {
   "outputs": [
    {
     "output_type": "execute_result",
     "data": {
      "text/plain": "\"{\\\"uwd\\\":{\\\"statements\\\":[{\\\"variables\\\":[{\\\"var\\\":\\\"x\\\",\\\"type\\\":\\\"X\\\",\\\"_type\\\":\\\"Typed\\\"},{\\\"var\\\":\\\"y\\\",\\\"type\\\":\\\"Y\\\",\\\"_type\\\":\\\"Typed\\\"}],\\\"_type\\\":\\\"Statement\\\",\\\"relation\\\":\\\"R\\\"},{\\\"variables\\\":[{\\\"var\\\":\\\"y\\\",\\\"type\\\":\\\"Y\\\",\\\"_type\\\":\\\"Typed\\\"},{\\\"var\\\":\\\"z\\\",\\\"type\\\":\\\"Z\\\",\\\"_type\\\":\\\"Typed\\\"}],\\\"_type\\\":\\\"Statement\\\",\\\"relati\" ⋯ 216 bytes ⋯ \"\\\"},{\\\"var\\\":\\\"z\\\",\\\"type\\\":\\\"Z\\\",\\\"_type\\\":\\\"Typed\\\"}],\\\"_type\\\":\\\"UWDExpr\\\"},\\\"header\\\":{\\\"description\\\":\\\"A demo UWD showing generic relation composition\\\",\\\"name\\\":\\\"rst_relation\\\",\\\"_type\\\":\\\"Header\\\",\\\"model_version\\\":\\\"v0.1\\\",\\\"schema\\\":\\\"modelreps.io/UWD\\\",\\\"schema_name\\\":\\\"UWDExpr\\\"},\\\"_type\\\":\\\"UWDModel\\\"}\""
     },
     "metadata": {},
     "execution_count": 7
    }
   ],
   "cell_type": "code",
   "source": [
    "h = AMR.Header(\"rst_relation\", \"modelreps.io/UWD\", \"A demo UWD showing generic relation composition\", \"UWDExpr\", \"v0.1\")\n",
    "mexpr = UWDModel(h, u)\n",
    "s = JSON3.write(mexpr)"
   ],
   "metadata": {},
   "execution_count": 7
  },
  {
   "cell_type": "markdown",
   "source": [
    "Just as check, the headers should be preserved."
   ],
   "metadata": {}
  },
  {
   "outputs": [
    {
     "output_type": "execute_result",
     "data": {
      "text/plain": "\u001b[32m\u001b[1mTest Passed\u001b[22m\u001b[39m"
     },
     "metadata": {},
     "execution_count": 8
    }
   ],
   "cell_type": "code",
   "source": [
    "@test JSON3.write(JSON3.read(s, UWDModel)) == JSON3.write(mexpr)"
   ],
   "metadata": {},
   "execution_count": 8
  }
 ],
 "nbformat_minor": 3,
 "metadata": {
  "language_info": {
   "file_extension": ".jl",
   "mimetype": "application/julia",
   "name": "julia",
   "version": "1.9.2"
  },
  "kernelspec": {
   "name": "julia-1.9",
   "display_name": "Julia 1.9.2",
   "language": "julia"
  }
 },
 "nbformat": 4
}
