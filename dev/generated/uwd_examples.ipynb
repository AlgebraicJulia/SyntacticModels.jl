{
 "cells": [
  {
   "cell_type": "markdown",
   "source": [
    "# Undirected Wiring Diagrams"
   ],
   "metadata": {}
  },
  {
   "cell_type": "markdown",
   "source": [
    "To specify complex systems, you need to specify primitive models and a pattern of composition.\n",
    "This example shows you how to use Undirected Wiring Diagrams (UWDs) as a language for expressing patterns of composition.\n",
    "These diagrams are undirected, because they do not have inputs and outputs. UWDs are for systems that compose by sharing variables.\n",
    "They are not for systems that compose like functions, where output of a system is passed as input to another system.\n",
    "For systems that compose like functions, use Directed Wiring Diagrams."
   ],
   "metadata": {}
  },
  {
   "outputs": [
    {
     "output_type": "execute_result",
     "data": {
      "text/plain": "draw (generic function with 1 method)"
     },
     "metadata": {},
     "execution_count": 1
    }
   ],
   "cell_type": "code",
   "source": [
    "using ..SyntacticModels\n",
    "using ..SyntacticModels.SyntacticModelsBase\n",
    "using ..SyntacticModels.AMR\n",
    "using ..SyntacticModels.ASKEMUWDs\n",
    "\n",
    "using Test\n",
    "using JSON3\n",
    "using Catlab.RelationalPrograms\n",
    "using Catlab.WiringDiagrams\n",
    "using Catlab.Graphics\n",
    "\n",
    "draw(uwd) = to_graphviz(uwd, box_labels=:name, junction_labels=:variable)"
   ],
   "metadata": {},
   "execution_count": 1
  },
  {
   "cell_type": "markdown",
   "source": [
    "This example follows what in current catlab would be given as:\n",
    "\n",
    "```julia\n",
    "@relation (x:X, z:Z) where y:Y begin\n",
    "  R(x,y)\n",
    "  S(y,z)\n",
    "  T(z,y,u)\n",
    "end\n",
    "```\n",
    "\n",
    "Eventually, we will update the `@relation` macro to use this ADT based representation.\n",
    "This will allow users to create syntactic UWDExprs from with an easy to write syntax embedded in Julia."
   ],
   "metadata": {}
  },
  {
   "outputs": [
    {
     "output_type": "execute_result",
     "data": {
      "text/plain": "{ R(x:X, y:Y)\n  S(y:Y, z:Z)\n  T(z:Z, y:Y, u) } where {x:X, z:Z}"
     },
     "metadata": {},
     "execution_count": 2
    }
   ],
   "cell_type": "code",
   "source": [
    "v1 = Typed(:x, :X)\n",
    "v2 = Typed(:y, :Y)\n",
    "v3 = Typed(:z, :Z)\n",
    "v4 = Untyped(:u)\n",
    "c = [v1, v3]\n",
    "s = [Statement(:R, [v1,v2]),\n",
    "  Statement(:S, [v2,v3]),\n",
    "  Statement(:T, [v3,v2, v4])]\n",
    "u = UWDExpr(c, s)"
   ],
   "metadata": {},
   "execution_count": 2
  },
  {
   "cell_type": "markdown",
   "source": [
    "We can test that if we write the `UWDExpr` into a JSON string, then we get the same information when we read it.\n",
    "The `==` operator for MLStyle types is not correctly working for these types, I think because some type information is being lost."
   ],
   "metadata": {}
  },
  {
   "outputs": [
    {
     "output_type": "execute_result",
     "data": {
      "text/plain": "\u001b[32m\u001b[1mTest Passed\u001b[22m\u001b[39m"
     },
     "metadata": {},
     "execution_count": 3
    }
   ],
   "cell_type": "code",
   "source": [
    "s = JSON3.write(u)\n",
    "ujson = JSON3.read(s, UWDTerm)\n",
    "@test s == JSON3.write(ujson)"
   ],
   "metadata": {},
   "execution_count": 3
  },
  {
   "cell_type": "markdown",
   "source": [
    "The element type of the array changes when you go through JSON, even though type of the elements are the same."
   ],
   "metadata": {}
  },
  {
   "outputs": [
    {
     "output_type": "execute_result",
     "data": {
      "text/plain": "(Vector{SyntacticModels.ASKEMUWDs.Statement}, Vector{SyntacticModels.ASKEMUWDs.Statement})"
     },
     "metadata": {},
     "execution_count": 4
    }
   ],
   "cell_type": "code",
   "source": [
    "typeof(ujson.statements), typeof(u.statements)"
   ],
   "metadata": {},
   "execution_count": 4
  },
  {
   "cell_type": "markdown",
   "source": [
    "One can construct a Catlab Relation diagram from this expression."
   ],
   "metadata": {}
  },
  {
   "outputs": [
    {
     "output_type": "execute_result",
     "data": {
      "text/plain": "Catlab.Programs.RelationalPrograms.TypedUnnamedRelationDiagram{Symbol, Symbol, Symbol} {Box:3, Port:7, OuterPort:2, Junction:4, Type:0, Name:0, VarName:0}\n┌─────┬──────┐\n│\u001b[1m Box │\u001b[1m name │\n├─────┼──────┤\n│\u001b[1m   1 │    R │\n│\u001b[1m   2 │    S │\n│\u001b[1m   3 │    T │\n└─────┴──────┘\n┌──────┬─────┬──────────┬───────────┐\n│\u001b[1m Port │\u001b[1m box │\u001b[1m junction │\u001b[1m port_type │\n├──────┼─────┼──────────┼───────────┤\n│\u001b[1m    1 │   1 │        1 │         X │\n│\u001b[1m    2 │   1 │        3 │         Y │\n│\u001b[1m    3 │   2 │        3 │         Y │\n│\u001b[1m    4 │   2 │        2 │         Z │\n│\u001b[1m    5 │   3 │        2 │         Z │\n│\u001b[1m    6 │   3 │        3 │         Y │\n│\u001b[1m    7 │   3 │        4 │   untyped │\n└──────┴─────┴──────────┴───────────┘\n┌───────────┬────────────────┬─────────────────┐\n│\u001b[1m OuterPort │\u001b[1m outer_junction │\u001b[1m outer_port_type │\n├───────────┼────────────────┼─────────────────┤\n│\u001b[1m         1 │              1 │               x │\n│\u001b[1m         2 │              2 │               z │\n└───────────┴────────────────┴─────────────────┘\n┌──────────┬───────────────┬──────────┐\n│\u001b[1m Junction │\u001b[1m junction_type │\u001b[1m variable │\n├──────────┼───────────────┼──────────┤\n│\u001b[1m        1 │             X │        x │\n│\u001b[1m        2 │             Z │        z │\n│\u001b[1m        3 │             Y │        y │\n│\u001b[1m        4 │       untyped │        u │\n└──────────┴───────────────┴──────────┘\n",
      "text/html": [
       "<div class=\"c-set\">\n",
       "<span class=\"c-set-summary\">Catlab.Programs.RelationalPrograms.TypedUnnamedRelationDiagram{Symbol, Symbol, Symbol} {Box:3, Port:7, OuterPort:2, Junction:4, Type:0, Name:0, VarName:0}</span>\n",
       "<table>\n",
       "  <thead>\n",
       "    <tr class = \"header headerLastRow\">\n",
       "      <th class = \"rowLabel\" style = \"font-weight: bold; text-align: right;\">Box</th>\n",
       "      <th style = \"text-align: right;\">name</th>\n",
       "    </tr>\n",
       "  </thead>\n",
       "  <tbody>\n",
       "    <tr>\n",
       "      <td class = \"rowLabel\" style = \"font-weight: bold; text-align: right;\">1</td>\n",
       "      <td style = \"text-align: right;\">R</td>\n",
       "    </tr>\n",
       "    <tr>\n",
       "      <td class = \"rowLabel\" style = \"font-weight: bold; text-align: right;\">2</td>\n",
       "      <td style = \"text-align: right;\">S</td>\n",
       "    </tr>\n",
       "    <tr>\n",
       "      <td class = \"rowLabel\" style = \"font-weight: bold; text-align: right;\">3</td>\n",
       "      <td style = \"text-align: right;\">T</td>\n",
       "    </tr>\n",
       "  </tbody>\n",
       "</table>\n",
       "<table>\n",
       "  <thead>\n",
       "    <tr class = \"header headerLastRow\">\n",
       "      <th class = \"rowLabel\" style = \"font-weight: bold; text-align: right;\">Port</th>\n",
       "      <th style = \"text-align: right;\">box</th>\n",
       "      <th style = \"text-align: right;\">junction</th>\n",
       "      <th style = \"text-align: right;\">port_type</th>\n",
       "    </tr>\n",
       "  </thead>\n",
       "  <tbody>\n",
       "    <tr>\n",
       "      <td class = \"rowLabel\" style = \"font-weight: bold; text-align: right;\">1</td>\n",
       "      <td style = \"text-align: right;\">1</td>\n",
       "      <td style = \"text-align: right;\">1</td>\n",
       "      <td style = \"text-align: right;\">X</td>\n",
       "    </tr>\n",
       "    <tr>\n",
       "      <td class = \"rowLabel\" style = \"font-weight: bold; text-align: right;\">2</td>\n",
       "      <td style = \"text-align: right;\">1</td>\n",
       "      <td style = \"text-align: right;\">3</td>\n",
       "      <td style = \"text-align: right;\">Y</td>\n",
       "    </tr>\n",
       "    <tr>\n",
       "      <td class = \"rowLabel\" style = \"font-weight: bold; text-align: right;\">3</td>\n",
       "      <td style = \"text-align: right;\">2</td>\n",
       "      <td style = \"text-align: right;\">3</td>\n",
       "      <td style = \"text-align: right;\">Y</td>\n",
       "    </tr>\n",
       "    <tr>\n",
       "      <td class = \"rowLabel\" style = \"font-weight: bold; text-align: right;\">4</td>\n",
       "      <td style = \"text-align: right;\">2</td>\n",
       "      <td style = \"text-align: right;\">2</td>\n",
       "      <td style = \"text-align: right;\">Z</td>\n",
       "    </tr>\n",
       "    <tr>\n",
       "      <td class = \"rowLabel\" style = \"font-weight: bold; text-align: right;\">5</td>\n",
       "      <td style = \"text-align: right;\">3</td>\n",
       "      <td style = \"text-align: right;\">2</td>\n",
       "      <td style = \"text-align: right;\">Z</td>\n",
       "    </tr>\n",
       "    <tr>\n",
       "      <td class = \"rowLabel\" style = \"font-weight: bold; text-align: right;\">6</td>\n",
       "      <td style = \"text-align: right;\">3</td>\n",
       "      <td style = \"text-align: right;\">3</td>\n",
       "      <td style = \"text-align: right;\">Y</td>\n",
       "    </tr>\n",
       "    <tr>\n",
       "      <td class = \"rowLabel\" style = \"font-weight: bold; text-align: right;\">7</td>\n",
       "      <td style = \"text-align: right;\">3</td>\n",
       "      <td style = \"text-align: right;\">4</td>\n",
       "      <td style = \"text-align: right;\">untyped</td>\n",
       "    </tr>\n",
       "  </tbody>\n",
       "</table>\n",
       "<table>\n",
       "  <thead>\n",
       "    <tr class = \"header headerLastRow\">\n",
       "      <th class = \"rowLabel\" style = \"font-weight: bold; text-align: right;\">OuterPort</th>\n",
       "      <th style = \"text-align: right;\">outer_junction</th>\n",
       "      <th style = \"text-align: right;\">outer_port_type</th>\n",
       "    </tr>\n",
       "  </thead>\n",
       "  <tbody>\n",
       "    <tr>\n",
       "      <td class = \"rowLabel\" style = \"font-weight: bold; text-align: right;\">1</td>\n",
       "      <td style = \"text-align: right;\">1</td>\n",
       "      <td style = \"text-align: right;\">x</td>\n",
       "    </tr>\n",
       "    <tr>\n",
       "      <td class = \"rowLabel\" style = \"font-weight: bold; text-align: right;\">2</td>\n",
       "      <td style = \"text-align: right;\">2</td>\n",
       "      <td style = \"text-align: right;\">z</td>\n",
       "    </tr>\n",
       "  </tbody>\n",
       "</table>\n",
       "<table>\n",
       "  <thead>\n",
       "    <tr class = \"header headerLastRow\">\n",
       "      <th class = \"rowLabel\" style = \"font-weight: bold; text-align: right;\">Junction</th>\n",
       "      <th style = \"text-align: right;\">junction_type</th>\n",
       "      <th style = \"text-align: right;\">variable</th>\n",
       "    </tr>\n",
       "  </thead>\n",
       "  <tbody>\n",
       "    <tr>\n",
       "      <td class = \"rowLabel\" style = \"font-weight: bold; text-align: right;\">1</td>\n",
       "      <td style = \"text-align: right;\">X</td>\n",
       "      <td style = \"text-align: right;\">x</td>\n",
       "    </tr>\n",
       "    <tr>\n",
       "      <td class = \"rowLabel\" style = \"font-weight: bold; text-align: right;\">2</td>\n",
       "      <td style = \"text-align: right;\">Z</td>\n",
       "      <td style = \"text-align: right;\">z</td>\n",
       "    </tr>\n",
       "    <tr>\n",
       "      <td class = \"rowLabel\" style = \"font-weight: bold; text-align: right;\">3</td>\n",
       "      <td style = \"text-align: right;\">Y</td>\n",
       "      <td style = \"text-align: right;\">y</td>\n",
       "    </tr>\n",
       "    <tr>\n",
       "      <td class = \"rowLabel\" style = \"font-weight: bold; text-align: right;\">4</td>\n",
       "      <td style = \"text-align: right;\">untyped</td>\n",
       "      <td style = \"text-align: right;\">u</td>\n",
       "    </tr>\n",
       "  </tbody>\n",
       "</table>\n",
       "</div>\n"
      ]
     },
     "metadata": {},
     "execution_count": 5
    }
   ],
   "cell_type": "code",
   "source": [
    "uwd = ASKEMUWDs.construct(RelationDiagram, u)"
   ],
   "metadata": {},
   "execution_count": 5
  },
  {
   "cell_type": "markdown",
   "source": [
    "And then use Graphviz to draw the uwd."
   ],
   "metadata": {}
  },
  {
   "outputs": [
    {
     "output_type": "execute_result",
     "data": {
      "text/plain": "Catlab.Graphics.Graphviz.Graph(\"G\", false, \"neato\", Catlab.Graphics.Graphviz.Statement[Catlab.Graphics.Graphviz.Node(\"n1\", OrderedCollections.OrderedDict{Symbol, Union{String, Catlab.Graphics.Graphviz.Html}}(:id => \"box1\", :label => \"R\")), Catlab.Graphics.Graphviz.Node(\"n2\", OrderedCollections.OrderedDict{Symbol, Union{String, Catlab.Graphics.Graphviz.Html}}(:id => \"box2\", :label => \"S\")), Catlab.Graphics.Graphviz.Node(\"n3\", OrderedCollections.OrderedDict{Symbol, Union{String, Catlab.Graphics.Graphviz.Html}}(:id => \"box3\", :label => \"T\")), Catlab.Graphics.Graphviz.Node(\"n4\", OrderedCollections.OrderedDict{Symbol, Union{String, Catlab.Graphics.Graphviz.Html}}(:height => \"0\", :id => \"outer1\", :label => \"\", :margin => \"0\", :shape => \"none\", :style => \"invis\", :width => \"0\")), Catlab.Graphics.Graphviz.Node(\"n5\", OrderedCollections.OrderedDict{Symbol, Union{String, Catlab.Graphics.Graphviz.Html}}(:height => \"0\", :id => \"outer2\", :label => \"\", :margin => \"0\", :shape => \"none\", :style => \"invis\", :width => \"0\")), Catlab.Graphics.Graphviz.Node(\"n6\", OrderedCollections.OrderedDict{Symbol, Union{String, Catlab.Graphics.Graphviz.Html}}(:comment => \"junction\", :fillcolor => \"black\", :height => \"0.075\", :id => \"junction1\", :label => \"\", :shape => \"circle\", :style => \"filled\", :width => \"0.075\", :xlabel => \"x\")), Catlab.Graphics.Graphviz.Node(\"n7\", OrderedCollections.OrderedDict{Symbol, Union{String, Catlab.Graphics.Graphviz.Html}}(:comment => \"junction\", :fillcolor => \"black\", :height => \"0.075\", :id => \"junction2\", :label => \"\", :shape => \"circle\", :style => \"filled\", :width => \"0.075\", :xlabel => \"z\")), Catlab.Graphics.Graphviz.Node(\"n8\", OrderedCollections.OrderedDict{Symbol, Union{String, Catlab.Graphics.Graphviz.Html}}(:comment => \"junction\", :fillcolor => \"black\", :height => \"0.075\", :id => \"junction3\", :label => \"\", :shape => \"circle\", :style => \"filled\", :width => \"0.075\", :xlabel => \"y\")), Catlab.Graphics.Graphviz.Node(\"n9\", OrderedCollections.OrderedDict{Symbol, Union{String, Catlab.Graphics.Graphviz.Html}}(:comment => \"junction\", :fillcolor => \"black\", :height => \"0.075\", :id => \"junction4\", :label => \"\", :shape => \"circle\", :style => \"filled\", :width => \"0.075\", :xlabel => \"u\")), Catlab.Graphics.Graphviz.Edge(Catlab.Graphics.Graphviz.NodeID[Catlab.Graphics.Graphviz.NodeID(\"n1\", \"\", \"\"), Catlab.Graphics.Graphviz.NodeID(\"n6\", \"\", \"\")], OrderedCollections.OrderedDict{Symbol, Union{String, Catlab.Graphics.Graphviz.Html}}()), Catlab.Graphics.Graphviz.Edge(Catlab.Graphics.Graphviz.NodeID[Catlab.Graphics.Graphviz.NodeID(\"n4\", \"\", \"\"), Catlab.Graphics.Graphviz.NodeID(\"n6\", \"\", \"\")], OrderedCollections.OrderedDict{Symbol, Union{String, Catlab.Graphics.Graphviz.Html}}()), Catlab.Graphics.Graphviz.Edge(Catlab.Graphics.Graphviz.NodeID[Catlab.Graphics.Graphviz.NodeID(\"n2\", \"\", \"\"), Catlab.Graphics.Graphviz.NodeID(\"n7\", \"\", \"\")], OrderedCollections.OrderedDict{Symbol, Union{String, Catlab.Graphics.Graphviz.Html}}()), Catlab.Graphics.Graphviz.Edge(Catlab.Graphics.Graphviz.NodeID[Catlab.Graphics.Graphviz.NodeID(\"n3\", \"\", \"\"), Catlab.Graphics.Graphviz.NodeID(\"n7\", \"\", \"\")], OrderedCollections.OrderedDict{Symbol, Union{String, Catlab.Graphics.Graphviz.Html}}()), Catlab.Graphics.Graphviz.Edge(Catlab.Graphics.Graphviz.NodeID[Catlab.Graphics.Graphviz.NodeID(\"n5\", \"\", \"\"), Catlab.Graphics.Graphviz.NodeID(\"n7\", \"\", \"\")], OrderedCollections.OrderedDict{Symbol, Union{String, Catlab.Graphics.Graphviz.Html}}()), Catlab.Graphics.Graphviz.Edge(Catlab.Graphics.Graphviz.NodeID[Catlab.Graphics.Graphviz.NodeID(\"n1\", \"\", \"\"), Catlab.Graphics.Graphviz.NodeID(\"n8\", \"\", \"\")], OrderedCollections.OrderedDict{Symbol, Union{String, Catlab.Graphics.Graphviz.Html}}()), Catlab.Graphics.Graphviz.Edge(Catlab.Graphics.Graphviz.NodeID[Catlab.Graphics.Graphviz.NodeID(\"n2\", \"\", \"\"), Catlab.Graphics.Graphviz.NodeID(\"n8\", \"\", \"\")], OrderedCollections.OrderedDict{Symbol, Union{String, Catlab.Graphics.Graphviz.Html}}()), Catlab.Graphics.Graphviz.Edge(Catlab.Graphics.Graphviz.NodeID[Catlab.Graphics.Graphviz.NodeID(\"n3\", \"\", \"\"), Catlab.Graphics.Graphviz.NodeID(\"n8\", \"\", \"\")], OrderedCollections.OrderedDict{Symbol, Union{String, Catlab.Graphics.Graphviz.Html}}()), Catlab.Graphics.Graphviz.Edge(Catlab.Graphics.Graphviz.NodeID[Catlab.Graphics.Graphviz.NodeID(\"n3\", \"\", \"\"), Catlab.Graphics.Graphviz.NodeID(\"n9\", \"\", \"\")], OrderedCollections.OrderedDict{Symbol, Union{String, Catlab.Graphics.Graphviz.Html}}())], OrderedCollections.OrderedDict{Symbol, Union{String, Catlab.Graphics.Graphviz.Html}}(:fontname => \"Serif\"), OrderedCollections.OrderedDict{Symbol, Union{String, Catlab.Graphics.Graphviz.Html}}(:fontname => \"Serif\", :shape => \"ellipse\", :margin => \"0.05,0.025\", :width => \"0.5\", :height => \"0.5\"), OrderedCollections.OrderedDict{Symbol, Union{String, Catlab.Graphics.Graphviz.Html}}(:fontname => \"Serif\", :len => \"0.5\"))",
      "image/svg+xml": [
       "<?xml version=\"1.0\" encoding=\"UTF-8\" standalone=\"no\"?>\n",
       "<!DOCTYPE svg PUBLIC \"-//W3C//DTD SVG 1.1//EN\"\n",
       " \"http://www.w3.org/Graphics/SVG/1.1/DTD/svg11.dtd\">\n",
       "<!-- Generated by graphviz version 2.43.0 (0)\n",
       " -->\n",
       "<!-- Title: G Pages: 1 -->\n",
       "<svg width=\"175pt\" height=\"164pt\"\n",
       " viewBox=\"0.00 0.00 174.73 164.47\" xmlns=\"http://www.w3.org/2000/svg\" xmlns:xlink=\"http://www.w3.org/1999/xlink\">\n",
       "<g id=\"graph0\" class=\"graph\" transform=\"scale(1 1) rotate(0) translate(4 160.47)\">\n",
       "<title>G</title>\n",
       "<polygon fill=\"white\" stroke=\"transparent\" points=\"-4,4 -4,-160.47 170.73,-160.47 170.73,4 -4,4\"/>\n",
       "<!-- n1 -->\n",
       "<g id=\"box1\" class=\"node\">\n",
       "<title>n1</title>\n",
       "<ellipse fill=\"none\" stroke=\"black\" cx=\"48.9\" cy=\"-101.15\" rx=\"18\" ry=\"18\"/>\n",
       "<text text-anchor=\"middle\" x=\"48.9\" y=\"-97.45\" font-family=\"Serif\" font-size=\"14.00\">R</text>\n",
       "</g>\n",
       "<!-- n6 -->\n",
       "<!-- junction -->\n",
       "<g id=\"junction1\" class=\"node\">\n",
       "<title>n6</title>\n",
       "<ellipse fill=\"black\" stroke=\"black\" cx=\"22.67\" cy=\"-127.07\" rx=\"2.5\" ry=\"2.5\"/>\n",
       "<text text-anchor=\"middle\" x=\"15.67\" y=\"-133.37\" font-family=\"Serif\" font-size=\"14.00\">x</text>\n",
       "</g>\n",
       "<!-- n1&#45;&#45;n6 -->\n",
       "<g id=\"edge1\" class=\"edge\">\n",
       "<title>n1&#45;&#45;n6</title>\n",
       "<path fill=\"none\" stroke=\"black\" d=\"M36.1,-113.8C31.73,-118.12 27.31,-122.49 24.79,-124.97\"/>\n",
       "</g>\n",
       "<!-- n8 -->\n",
       "<!-- junction -->\n",
       "<g id=\"junction3\" class=\"node\">\n",
       "<title>n8</title>\n",
       "<ellipse fill=\"black\" stroke=\"black\" cx=\"78.56\" cy=\"-76.78\" rx=\"2.5\" ry=\"2.5\"/>\n",
       "<text text-anchor=\"middle\" x=\"71.56\" y=\"-83.08\" font-family=\"Serif\" font-size=\"14.00\">y</text>\n",
       "</g>\n",
       "<!-- n1&#45;&#45;n8 -->\n",
       "<g id=\"edge6\" class=\"edge\">\n",
       "<title>n1&#45;&#45;n8</title>\n",
       "<path fill=\"none\" stroke=\"black\" d=\"M63.04,-89.53C68.29,-85.22 73.66,-80.81 76.5,-78.47\"/>\n",
       "</g>\n",
       "<!-- n2 -->\n",
       "<g id=\"box2\" class=\"node\">\n",
       "<title>n2</title>\n",
       "<ellipse fill=\"none\" stroke=\"black\" cx=\"118.73\" cy=\"-84.08\" rx=\"18\" ry=\"18\"/>\n",
       "<text text-anchor=\"middle\" x=\"118.73\" y=\"-80.38\" font-family=\"Serif\" font-size=\"14.00\">S</text>\n",
       "</g>\n",
       "<!-- n7 -->\n",
       "<!-- junction -->\n",
       "<g id=\"junction2\" class=\"node\">\n",
       "<title>n7</title>\n",
       "<ellipse fill=\"black\" stroke=\"black\" cx=\"130.5\" cy=\"-45.39\" rx=\"2.5\" ry=\"2.5\"/>\n",
       "<text text-anchor=\"middle\" x=\"124\" y=\"-51.69\" font-family=\"Serif\" font-size=\"14.00\">z</text>\n",
       "</g>\n",
       "<!-- n2&#45;&#45;n7 -->\n",
       "<g id=\"edge3\" class=\"edge\">\n",
       "<title>n2&#45;&#45;n7</title>\n",
       "<path fill=\"none\" stroke=\"black\" d=\"M124.07,-66.55C126.26,-59.35 128.55,-51.82 129.72,-47.98\"/>\n",
       "</g>\n",
       "<!-- n2&#45;&#45;n8 -->\n",
       "<g id=\"edge7\" class=\"edge\">\n",
       "<title>n2&#45;&#45;n8</title>\n",
       "<path fill=\"none\" stroke=\"black\" d=\"M100.99,-80.86C93.26,-79.45 85.06,-77.96 81.05,-77.23\"/>\n",
       "</g>\n",
       "<!-- n3 -->\n",
       "<g id=\"box3\" class=\"node\">\n",
       "<title>n3</title>\n",
       "<ellipse fill=\"none\" stroke=\"black\" cx=\"90.23\" cy=\"-37.82\" rx=\"18\" ry=\"18\"/>\n",
       "<text text-anchor=\"middle\" x=\"90.23\" y=\"-34.12\" font-family=\"Serif\" font-size=\"14.00\">T</text>\n",
       "</g>\n",
       "<!-- n3&#45;&#45;n7 -->\n",
       "<g id=\"edge4\" class=\"edge\">\n",
       "<title>n3&#45;&#45;n7</title>\n",
       "<path fill=\"none\" stroke=\"black\" d=\"M108.01,-41.16C115.77,-42.62 123.99,-44.17 128.01,-44.92\"/>\n",
       "</g>\n",
       "<!-- n3&#45;&#45;n8 -->\n",
       "<g id=\"edge8\" class=\"edge\">\n",
       "<title>n3&#45;&#45;n8</title>\n",
       "<path fill=\"none\" stroke=\"black\" d=\"M84.94,-55.48C82.77,-62.72 80.5,-70.31 79.34,-74.18\"/>\n",
       "</g>\n",
       "<!-- n9 -->\n",
       "<!-- junction -->\n",
       "<g id=\"junction4\" class=\"node\">\n",
       "<title>n9</title>\n",
       "<ellipse fill=\"black\" stroke=\"black\" cx=\"73.29\" cy=\"-2.5\" rx=\"2.5\" ry=\"2.5\"/>\n",
       "<text text-anchor=\"middle\" x=\"65.79\" y=\"-8.8\" font-family=\"Serif\" font-size=\"14.00\">u</text>\n",
       "</g>\n",
       "<!-- n3&#45;&#45;n9 -->\n",
       "<g id=\"edge9\" class=\"edge\">\n",
       "<title>n3&#45;&#45;n9</title>\n",
       "<path fill=\"none\" stroke=\"black\" d=\"M82.36,-21.4C79.32,-15.06 76.17,-8.5 74.5,-5.03\"/>\n",
       "</g>\n",
       "<!-- n4 -->\n",
       "<!-- n4&#45;&#45;n6 -->\n",
       "<g id=\"edge2\" class=\"edge\">\n",
       "<title>n4&#45;&#45;n6</title>\n",
       "<path fill=\"none\" stroke=\"black\" d=\"M1.05,-155.25C3.82,-151.64 16.36,-135.29 20.97,-129.29\"/>\n",
       "</g>\n",
       "<!-- n5 -->\n",
       "<!-- n5&#45;&#45;n7 -->\n",
       "<g id=\"edge5\" class=\"edge\">\n",
       "<title>n5&#45;&#45;n7</title>\n",
       "<path fill=\"none\" stroke=\"black\" d=\"M165.35,-32.09C160.88,-33.79 140.67,-41.51 133.25,-44.35\"/>\n",
       "</g>\n",
       "</g>\n",
       "</svg>\n"
      ]
     },
     "metadata": {},
     "execution_count": 6
    }
   ],
   "cell_type": "code",
   "source": [
    "draw(uwd)"
   ],
   "metadata": {},
   "execution_count": 6
  },
  {
   "cell_type": "markdown",
   "source": [
    "## Model Headers"
   ],
   "metadata": {}
  },
  {
   "cell_type": "markdown",
   "source": [
    "As usual, we can add an AMR header to a UWD Model:"
   ],
   "metadata": {}
  },
  {
   "outputs": [
    {
     "output_type": "execute_result",
     "data": {
      "text/plain": "\"\"\"\nASKE Model Representation: rst_relationv0.1 :: UWDExpr \n   modelreps.io/UWD\n\nA demo UWD showing generic relation composition\n\"\"\"\nUWD:\n{ R(x:X, y:Y)\n  S(y:Y, z:Z)\n  T(z:Z, y:Y, u) } where {x:X, z:Z}"
     },
     "metadata": {},
     "execution_count": 7
    }
   ],
   "cell_type": "code",
   "source": [
    "h = AMR.Header(\"rst_relation\", \"modelreps.io/UWD\", \"A demo UWD showing generic relation composition\", \"UWDExpr\", \"v0.1\")\n",
    "mexpr = UWDModel(h, u)"
   ],
   "metadata": {},
   "execution_count": 7
  },
  {
   "cell_type": "markdown",
   "source": [
    "And write that model in JSON"
   ],
   "metadata": {}
  },
  {
   "outputs": [
    {
     "output_type": "execute_result",
     "data": {
      "text/plain": "\"{\\\"uwd\\\":{\\\"statements\\\":[{\\\"variables\\\":[{\\\"var\\\":\\\"x\\\",\\\"type\\\":\\\"X\\\",\\\"_type\\\":\\\"Typed\\\"},{\\\"var\\\":\\\"y\\\",\\\"type\\\":\\\"Y\\\",\\\"_type\\\":\\\"Typed\\\"}],\\\"_type\\\":\\\"Statement\\\",\\\"relation\\\":\\\"R\\\"},{\\\"variables\\\":[{\\\"var\\\":\\\"y\\\",\\\"type\\\":\\\"Y\\\",\\\"_type\\\":\\\"Typed\\\"},{\\\"var\\\":\\\"z\\\",\\\"type\\\":\\\"Z\\\",\\\"_type\\\":\\\"Typed\\\"}],\\\"_type\\\":\\\"Statement\\\",\\\"relati\" ⋯ 216 bytes ⋯ \"\\\"},{\\\"var\\\":\\\"z\\\",\\\"type\\\":\\\"Z\\\",\\\"_type\\\":\\\"Typed\\\"}],\\\"_type\\\":\\\"UWDExpr\\\"},\\\"header\\\":{\\\"description\\\":\\\"A demo UWD showing generic relation composition\\\",\\\"name\\\":\\\"rst_relation\\\",\\\"_type\\\":\\\"Header\\\",\\\"model_version\\\":\\\"v0.1\\\",\\\"schema\\\":\\\"modelreps.io/UWD\\\",\\\"schema_name\\\":\\\"UWDExpr\\\"},\\\"_type\\\":\\\"UWDModel\\\"}\""
     },
     "metadata": {},
     "execution_count": 8
    }
   ],
   "cell_type": "code",
   "source": [
    "s = JSON3.write(mexpr)"
   ],
   "metadata": {},
   "execution_count": 8
  },
  {
   "cell_type": "markdown",
   "source": [
    "Just as check, the headers should be preserved."
   ],
   "metadata": {}
  },
  {
   "outputs": [
    {
     "output_type": "execute_result",
     "data": {
      "text/plain": "\u001b[32m\u001b[1mTest Passed\u001b[22m\u001b[39m"
     },
     "metadata": {},
     "execution_count": 9
    }
   ],
   "cell_type": "code",
   "source": [
    "@test JSON3.write(JSON3.read(s, UWDModel)) == JSON3.write(mexpr)"
   ],
   "metadata": {},
   "execution_count": 9
  }
 ],
 "nbformat_minor": 3,
 "metadata": {
  "language_info": {
   "file_extension": ".jl",
   "mimetype": "application/julia",
   "name": "julia",
   "version": "1.9.3"
  },
  "kernelspec": {
   "name": "julia-1.9",
   "display_name": "Julia 1.9.3",
   "language": "julia"
  }
 },
 "nbformat": 4
}
